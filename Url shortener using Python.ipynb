{
 "cells": [
  {
   "cell_type": "code",
   "execution_count": 1,
   "id": "4d5cf309",
   "metadata": {},
   "outputs": [
    {
     "name": "stdout",
     "output_type": "stream",
     "text": [
      "Requirement already satisfied: clipboard in c:\\users\\tushar roy\\anaconda3\\lib\\site-packages (0.0.4)\n",
      "Requirement already satisfied: pyperclip>=1.3 in c:\\users\\tushar roy\\anaconda3\\lib\\site-packages (from clipboard) (1.8.2)\n",
      "Collecting Shortener\n",
      "  Downloading shortener-0.2.1-py3-none-any.whl (5.6 kB)\n",
      "Collecting django>=2.0.0\n",
      "  Downloading Django-4.2.1-py3-none-any.whl (8.0 MB)\n",
      "Collecting sqlparse>=0.3.1\n",
      "  Downloading sqlparse-0.4.4-py3-none-any.whl (41 kB)\n",
      "Collecting tzdata\n",
      "  Downloading tzdata-2023.3-py2.py3-none-any.whl (341 kB)\n",
      "Collecting asgiref<4,>=3.6.0\n",
      "  Downloading asgiref-3.6.0-py3-none-any.whl (23 kB)\n",
      "Installing collected packages: tzdata, sqlparse, asgiref, django, Shortener\n",
      "Successfully installed Shortener-0.2.1 asgiref-3.6.0 django-4.2.1 sqlparse-0.4.4 tzdata-2023.3\n",
      "Requirement already satisfied: validators in c:\\users\\tushar roy\\anaconda3\\lib\\site-packages (0.20.0)\n",
      "Requirement already satisfied: decorator>=3.4.0 in c:\\users\\tushar roy\\anaconda3\\lib\\site-packages (from validators) (5.1.0)\n"
     ]
    }
   ],
   "source": [
    "!pip install clipboard\n",
    "!pip install Shortener\n",
    "!pip install validators"
   ]
  },
  {
   "cell_type": "code",
   "execution_count": 2,
   "id": "17ea1b7f",
   "metadata": {},
   "outputs": [],
   "source": [
    "from os import close\n",
    "from tkinter import *\n",
    "from tkinter import font\n",
    "from PIL import Image , ImageTk\n",
    "import clipboard\n",
    "import validators\n",
    "from pyshorteners import Shortener\n",
    "\n",
    "def Clear():\n",
    "    e.delete(0,\"end\")\n",
    "    l.config(text=\"\")\n",
    "\n",
    "def Copy():\n",
    "    clipboard.copy(l.cget(\"text\"))\n",
    "    c = Label(win , text=\"Copied\" , font=(20))\n",
    "    c.pack()\n",
    "    win.after(2000 , c.destroy)\n",
    "\n",
    "def Paste():\n",
    "    e.delete(0,\"end\")\n",
    "    e.insert(0,clipboard.paste())\n",
    "\n",
    "def Shorten():\n",
    "    link = e.get()\n",
    "    valid = validators.url(\"https://\" + link)\n",
    "    if(valid == True):\n",
    "        short = Shortener().tinyurl.short(link)\n",
    "        l.config(text=short)\n",
    "    else:\n",
    "        l.config(text=\"Invalid Address\")\n",
    "\n",
    "win = Tk()\n",
    "win.title(\"Url Shortener\")\n",
    "win.geometry(\"700x200\")\n",
    "\n",
    "e = Entry(win , font=(20))\n",
    "e.place(relwidth=.6 ,relx= .2, rely=.2)\n",
    "\n",
    "paste = Image.open(\"paste.png\")\n",
    "resized_paste = paste.resize((20,20) , Image.ANTIALIAS)\n",
    "new_paste = ImageTk.PhotoImage(resized_paste)\n",
    "\n",
    "paste_b = Button(win,image=new_paste,command=Paste)\n",
    "paste_b.place(relx=.16 , rely=.2)\n",
    "\n",
    "shorten_b = Button(win,text=\"Shorten\",command=Shorten)\n",
    "shorten_b.place(relx=.4,rely=.35)\n",
    "\n",
    "clear_b = Button(win,text=\"Clear\",command=Clear)\n",
    "clear_b.place(relx=.5 , rely=.35)\n",
    "\n",
    "l = Label(win,bg=\"White\",font=(20),relief=\"sunken\")\n",
    "l.place(relwidth=.6 , relx= .2 ,rely=.55)\n",
    "\n",
    "copy = Image.open(\"copy.png\")\n",
    "resized_copy = copy.resize((20,20) , Image.ANTIALIAS)\n",
    "new_copy = ImageTk.PhotoImage(resized_copy)\n",
    "\n",
    "copy_b = Button(win,image=new_copy,command=Copy)\n",
    "copy_b.place(relx=.16 , rely=.55)\n",
    "win.mainloop()"
   ]
  },
  {
   "cell_type": "code",
   "execution_count": null,
   "id": "f170363e",
   "metadata": {},
   "outputs": [],
   "source": []
  }
 ],
 "metadata": {
  "kernelspec": {
   "display_name": "Python 3 (ipykernel)",
   "language": "python",
   "name": "python3"
  },
  "language_info": {
   "codemirror_mode": {
    "name": "ipython",
    "version": 3
   },
   "file_extension": ".py",
   "mimetype": "text/x-python",
   "name": "python",
   "nbconvert_exporter": "python",
   "pygments_lexer": "ipython3",
   "version": "3.9.7"
  }
 },
 "nbformat": 4,
 "nbformat_minor": 5
}
